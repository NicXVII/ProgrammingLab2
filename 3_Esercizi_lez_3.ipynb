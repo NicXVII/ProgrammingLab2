{
 "cells": [
  {
   "cell_type": "markdown",
   "metadata": {},
   "source": [
    "### **1.Consumo di alcol per paese** \n",
    "Esegui un’**analisi esplorativa** focalizzata sul **consumo di alcol**.  \n",
    "Analizza i seguenti aspetti:\n",
    "* Visualizza i primi 10 paesi ordinati per total_litres_of_pure_alcohol (dal più alto)\n",
    "\n",
    "* Calcola la media del consumo di birra, vino, e distillati\n",
    "\n",
    "* Crea una nuova colonna alcohol_index che sia: `(beer_servings + wine_servings + spirit_servings) / 3`\n",
    "\n",
    "* Trova il paese con il valore massimo di alcohol_index\n",
    "\n",
    "* Filtra solo i paesi che consumano più di 100 birre all’anno\n",
    "\n",
    "Crea un bar chart dei 10 paesi con più consumo totale (total_litres_of_pure_alcohol)\n",
    "\n",
    "Crea un line plot con wine_servings ordinato per paese (usa sort_values)"
   ]
  },
  {
   "cell_type": "code",
   "execution_count": null,
   "metadata": {},
   "outputs": [
    {
     "name": "stdout",
     "output_type": "stream",
     "text": [
      "                country  beer_servings  spirit_servings  wine_servings  \\\n",
      "15              Belarus            142              373             42   \n",
      "98            Lithuania            343              244             56   \n",
      "3               Andorra            245              138            312   \n",
      "68              Grenada            199              438             28   \n",
      "45       Czech Republic            361              170            134   \n",
      "61               France            127              151            370   \n",
      "141  Russian Federation            247              326             73   \n",
      "81              Ireland            313              118            165   \n",
      "99           Luxembourg            236              133            271   \n",
      "155            Slovakia            196              293            116   \n",
      "\n",
      "     total_litres_of_pure_alcohol  \n",
      "15                           14.4  \n",
      "98                           12.9  \n",
      "3                            12.4  \n",
      "68                           11.9  \n",
      "45                           11.8  \n",
      "61                           11.8  \n",
      "141                          11.5  \n",
      "81                           11.4  \n",
      "99                           11.4  \n",
      "155                          11.4  \n"
     ]
    }
   ],
   "source": [
    "import pandas as pd\n",
    "\n",
    "df = pd.read_csv(\"https://raw.githubusercontent.com/fivethirtyeight/data/master/alcohol-consumption/drinks.csv\")\n",
    "\n",
    "print(df.nlargest(10, \"total_litres_of_pure_alcohol\"))\n",
    "\n"
   ]
  },
  {
   "cell_type": "code",
   "execution_count": 30,
   "metadata": {},
   "outputs": [
    {
     "name": "stdout",
     "output_type": "stream",
     "text": [
      "Media birra:  106.16062176165804\n",
      "Media vino:  49.45077720207254\n",
      "Media distillati:  80.99481865284974\n"
     ]
    }
   ],
   "source": [
    "# * Calcola la media del consumo di birra, vino, e distillati\n",
    "avarageBirra = df[\"beer_servings\"].mean()\n",
    "avarageVino = df[\"wine_servings\"].mean()\n",
    "avarageDistillati = df[\"spirit_servings\"].mean()\n",
    "print(\"Media birra: \", avarageBirra)\n",
    "print(\"Media vino: \", avarageVino)\n",
    "print(\"Media distillati: \", avarageDistillati)"
   ]
  },
  {
   "cell_type": "code",
   "execution_count": 33,
   "metadata": {},
   "outputs": [
    {
     "name": "stdout",
     "output_type": "stream",
     "text": [
      "Max alcohol index:  231.66666666666666\n"
     ]
    }
   ],
   "source": [
    "# * Crea una nuova colonna alcohol_index che sia: `(beer_servings + wine_servings + spirit_servings) / 3`\n",
    "df[\"alcohol_index\"] = (df[\"beer_servings\"] + df[\"wine_servings\"] + df[\"spirit_servings\"]) / 3\n",
    "maxAlcoholIndex = df[\"alcohol_index\"].max()\n",
    "print(\"Max alcohol index: \", maxAlcoholIndex)"
   ]
  },
  {
   "cell_type": "code",
   "execution_count": null,
   "metadata": {},
   "outputs": [
    {
     "name": "stdout",
     "output_type": "stream",
     "text": [
      "Paesi che consumano più di 100 birre all'anno:                 country  beer_servings  spirit_servings  wine_servings  \\\n",
      "3              Andorra            245              138            312   \n",
      "4               Angola            217               57             45   \n",
      "5    Antigua & Barbuda            102              128             45   \n",
      "6            Argentina            193               25            221   \n",
      "8            Australia            261               72            212   \n",
      "..                 ...            ...              ...            ...   \n",
      "182     United Kingdom            219              126            195   \n",
      "184                USA            249              158             84   \n",
      "185            Uruguay            115               35            220   \n",
      "188          Venezuela            333              100              3   \n",
      "189            Vietnam            111                2              1   \n",
      "\n",
      "     total_litres_of_pure_alcohol  alcohol_index  \n",
      "3                            12.4     231.666667  \n",
      "4                             5.9     106.333333  \n",
      "5                             4.9      91.666667  \n",
      "6                             8.3     146.333333  \n",
      "8                            10.4     181.666667  \n",
      "..                            ...            ...  \n",
      "182                          10.4     180.000000  \n",
      "184                           8.7     163.666667  \n",
      "185                           6.6     123.333333  \n",
      "188                           7.7     145.333333  \n",
      "189                           2.0      38.000000  \n",
      "\n",
      "[79 rows x 6 columns] \n",
      " country                         79\n",
      "beer_servings                   79\n",
      "spirit_servings                 79\n",
      "wine_servings                   79\n",
      "total_litres_of_pure_alcohol    79\n",
      "alcohol_index                   79\n",
      "dtype: int64\n"
     ]
    }
   ],
   "source": [
    "# * Filtra solo i paesi che consumano più di 100 birre all’anno\n",
    "berOver100 = df[df[\"beer_servings\"] > 100]\n",
    "print(\"Paesi che consumano più di 100 birre all'anno: \", berOver100)"
   ]
  },
  {
   "cell_type": "markdown",
   "metadata": {},
   "source": [
    "### **2.Analisi offerte di lavoro** \n",
    "\n",
    "Esegui un’**analisi esplorativa** focalizzata sui **lavori nel campo dei dati in ciascun paese**.  \n",
    "Analizza i seguenti aspetti per ogni paese:\n",
    "\n",
    "* Lo **stipendio medio annuale** (`salary_year_avg`)\n",
    "* Il **numero totale di offerte di lavoro** (job count)\n",
    "* L’intervallo degli stipendi: **valore minimo e massimo** (`min` / `max`)\n",
    "\n",
    "Rappresenta graficamente lo stipendio medio (`salary_year_avg`) per `job_title_short` usando un grafico a barre orizzontali. Ordina i dati dallo stipendio più alto al più basso. Includi un titolo e le etichette per gli assi x e y."
   ]
  },
  {
   "cell_type": "code",
   "execution_count": null,
   "metadata": {},
   "outputs": [],
   "source": [
    "import pandas as pd\n",
    "from datasets import load_dataset\n",
    "\n",
    "dataset = load_dataset('lukebarousse/data_jobs')\n",
    "df = dataset['train'].to_pandas()\n",
    "\n",
    "df['job_posted_date'] = pd.to_datetime(df['job_posted_date'])"
   ]
  }
 ],
 "metadata": {
  "kernelspec": {
   "display_name": "base",
   "language": "python",
   "name": "python3"
  },
  "language_info": {
   "codemirror_mode": {
    "name": "ipython",
    "version": 3
   },
   "file_extension": ".py",
   "mimetype": "text/x-python",
   "name": "python",
   "nbconvert_exporter": "python",
   "pygments_lexer": "ipython3",
   "version": "3.12.7"
  }
 },
 "nbformat": 4,
 "nbformat_minor": 2
}
