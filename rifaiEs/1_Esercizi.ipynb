{
 "cells": [
  {
   "cell_type": "markdown",
   "metadata": {},
   "source": [
    "### **1. Trasformare cicli in list comprehension**\n",
    "\n",
    "Fai tre esempi di cicli producono una lista e poi riscrivi lo stesso codice usando la list comprehension"
   ]
  },
  {
   "cell_type": "code",
   "execution_count": 1,
   "metadata": {},
   "outputs": [
    {
     "name": "stdout",
     "output_type": "stream",
     "text": [
      "[0, 1, 4, 9, 16, 25, 36, 49, 64, 81]\n",
      "[0, 1, 4, 9, 16, 25, 36, 49, 64, 81]\n",
      "[0, 2, 4, 6, 8]\n",
      "[0, 2, 4, 6, 8]\n",
      "['H', 'E', 'L', 'L', 'O', 'W', 'O', 'R', 'L', 'D']\n",
      "['H', 'E', 'L', 'L', 'O', 'W', 'O', 'R', 'L', 'D']\n"
     ]
    }
   ],
   "source": [
    "# Esempio 1: Creare una lista dei quadrati dei numeri da 0 a 9\n",
    "# Usando un ciclo for\n",
    "squares = []\n",
    "for i in range(10):\n",
    "\tsquares.append(i**2)\n",
    "print(squares)\n",
    "\n",
    "# Con list comprehension\n",
    "squares_comp = [i**2 for i in range(10)]\n",
    "print(squares_comp)\n",
    "\n",
    "# Esempio 2: Creare una lista dei numeri pari da 0 a 9\n",
    "# Usando un ciclo for\n",
    "even_numbers = []\n",
    "for i in range(10):\n",
    "\tif i % 2 == 0:\n",
    "\t\teven_numbers.append(i)\n",
    "print(even_numbers)\n",
    "\n",
    "# Con list comprehension\n",
    "even_numbers_comp = [i for i in range(10) if i % 2 == 0]\n",
    "print(even_numbers_comp)\n",
    "\n",
    "# Esempio 3: Creare una lista delle lettere maiuscole\n",
    "# Usando un ciclo for\n",
    "letters = []\n",
    "for char in \"hello world\":\n",
    "\tif char.isalpha():\n",
    "\t\tletters.append(char.upper())\n",
    "print(letters)\n",
    "\n",
    "# Con list comprehension\n",
    "letters_comp = [char.upper() for char in \"hello world\" if char.isalpha()]\n",
    "print(letters_comp)\n",
    "    \n",
    "    "
   ]
  },
  {
   "cell_type": "markdown",
   "metadata": {},
   "source": [
    "### **2. Vettore di Numeri Primi**\n",
    "\n",
    "1. **Crea un vettore** contenente tutti i numeri primi compresi tra **0 e 10**  \n",
    "   _(Puoi scriverli direttamente nell'array)._\n",
    "\n",
    "2. **Conta quanti numeri ci sono nel vettore** utilizzando la funzione `len()`.  **Ottieni lo stesso numero** accedendo all'attributo `.size` del vettore.\n",
    "\n",
    "3. Quale pensi sia il tipo di dato (`dtype`) del vettore?  Prova a rispondere senza eseguire il codice e Verifica la tua risposta accedendo all'attributo `.dtype` del vettore\n",
    "\n",
    "4. Scrivi l'array usando una list comprehension che controlla che i numeri siano primi. "
   ]
  },
  {
   "cell_type": "code",
   "execution_count": 15,
   "metadata": {},
   "outputs": [
    {
     "name": "stdout",
     "output_type": "stream",
     "text": [
      "Numero di elementi nel vettore: 4\n",
      "Tipo di dato del vettore: <class 'numpy.ndarray'>\n",
      "Numeri primi nel vettore: [np.int64(3), np.int64(5), np.int64(7)]\n"
     ]
    }
   ],
   "source": [
    "import numpy as np\n",
    "vet = np.array([1,3,5,7])\n",
    "\n",
    "#2. **Conta quanti numeri ci sono nel vettore** utilizzando la funzione `len()`.  **Ottieni lo stesso numero** accedendo all'attributo `.size` del vettore.]\n",
    "print(\"Numero di elementi nel vettore:\", len(vet))\n",
    "\n",
    "\n",
    "#3. Quale pensi sia il tipo di dato (`dtype`) del vettore?  Prova a rispondere senza eseguire il codice e Verifica la tua risposta accedendo all'attributo `.dtype` del vettore\n",
    "print(\"Tipo di dato del vettore:\", type(vet))\n",
    "\n",
    "\n",
    "#4. Scrivi l'array usando una list comprehension che controlla che i numeri siano primi. \n",
    "def prime(n):\n",
    "    if n<= 1:\n",
    "        return False\n",
    "    for i in range(2, n-1):\n",
    "        if n % i == 0:\n",
    "            return False\n",
    "        \n",
    "    return True\n",
    "\n",
    "\n",
    "primes = [i for i in vet if prime(i)]\n",
    "print(\"Numeri primi nel vettore:\", primes)"
   ]
  },
  {
   "cell_type": "markdown",
   "metadata": {},
   "source": [
    "### **3.  Operazioni su array**\n",
    "Crea un array **a**, 1D (senza digitarlo esplicitamente), e genera due nuovi array **b**, contenente una sottostringa a piacere e **c** che è il reverse dell'array **a** (esempio [1,2,3] diventa [3,2,1]) .  Dividi l'array **a** per l'array **c**. Fai la stessa cosa per una lista."
   ]
  },
  {
   "cell_type": "code",
   "execution_count": 25,
   "metadata": {},
   "outputs": [
    {
     "name": "stdout",
     "output_type": "stream",
     "text": [
      "Divisione tra elementi di a e b: [0.16666666666666666, 0.2, 0.25, 0.3333333333333333, 0.5, 1.0, 0.3333333333333333, 0.4, 0.5, 0.6666666666666666, 1.0, 2.0, 0.5, 0.6, 0.75, 1.0, 1.5, 3.0, 0.6666666666666666, 0.8, 1.0, 1.3333333333333333, 2.0, 4.0, 0.8333333333333334, 1.0, 1.25, 1.6666666666666667, 2.5, 5.0, 1.0, 1.2, 1.5, 2.0, 3.0, 6.0]\n",
      "Divisione tra elementi di aList e bList: [0.0, 0.1111111111111111, 0.25, 0.42857142857142855, 0.6666666666666666, 1.0, 1.5, 2.3333333333333335, 4.0, 9.0]\n"
     ]
    }
   ],
   "source": [
    "a = [1,2,3,4,5,6]\n",
    "b = a[2:4]\n",
    "c = a[::-1]\n",
    "\n",
    "\n",
    "divisione = [x/y for x in a for y in c if y != 0]\n",
    "print(\"Divisione tra elementi di a e b:\", divisione)\n",
    "\n",
    "\n",
    "aList =  list(range(11))\n",
    "bList = aList[2:4]\n",
    "cList = aList[::-1]\n",
    "\n",
    "division_list = [x / y for x, y in zip(aList, cList) if y != 0]\n",
    "print(\"Divisione tra elementi di aList e bList:\", division_list)"
   ]
  }
 ],
 "metadata": {
  "kernelspec": {
   "display_name": "base",
   "language": "python",
   "name": "python3"
  },
  "language_info": {
   "codemirror_mode": {
    "name": "ipython",
    "version": 3
   },
   "file_extension": ".py",
   "mimetype": "text/x-python",
   "name": "python",
   "nbconvert_exporter": "python",
   "pygments_lexer": "ipython3",
   "version": "3.13.5"
  }
 },
 "nbformat": 4,
 "nbformat_minor": 2
}
