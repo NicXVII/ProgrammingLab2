{
 "cells": [
  {
   "cell_type": "markdown",
   "id": "9fe951e1",
   "metadata": {},
   "source": [
    "# Simulazione d'esame Laboratorio di Programmazione 2"
   ]
  },
  {
   "cell_type": "markdown",
   "id": "81166829",
   "metadata": {},
   "source": [
    "## Esercizio 1\n",
    "\n",
    "1. Crea un vettore NumPy con i seguenti **canoni mensili d'affitto** (in euro) per 4 appartamenti: **720, 980, 650, 1200**\n",
    "\n",
    "2. Calcola la **spesa totale mensile** sostenuta dagli inquilini.\n",
    "\n",
    "3. Il proprietario dell'appartamento da **1200 €** decide di **aumentare l’affitto del 12%**.\n",
    "    - Modifica il vettore per applicare l’aumento.\n",
    "    - L’importo aggiornato deve essere esattamente **1344,00 €**, controlla se appare **esattamente** nel tuo array.\n",
    "\n",
    "\n",
    "4. L'inquilino dell'appartamento da **650 €** ottiene uno **sconto del 10%**.\n",
    "    - Applica la modifica.\n",
    "\n",
    "5. Gli altri due appartamenti (**720 € e 980 €**) subiscono un **aumento del 5%**.\n",
    "    - Aggiorna il vettore di conseguenza.\n",
    "\n",
    "7. Calcola la **nuova spesa totale mensile** dopo tutti i cambiamenti.\n",
    "\n",
    "8. Infine: quanto ha influito **l’aumento dell’affitto più alto** sulla spesa complessiva?\n",
    "\n",
    "    (Suggerimento: confronta la spesa totale **prima di qualsiasi modifica** e **dopo il solo aumento del canone a 1200 €**.)\n"
   ]
  },
  {
   "cell_type": "code",
   "execution_count": 3,
   "id": "4007c1ec",
   "metadata": {},
   "outputs": [
    {
     "name": "stdout",
     "output_type": "stream",
     "text": [
      "L'importo aggiornato è esattamente 1344,00 €\n",
      "L'aumento dell'affitto più alto ha influito sulla spesa complessiva di: 144 €\n"
     ]
    }
   ],
   "source": [
    "# 1. Crea un vettore NumPy con i seguenti **canoni mensili d'affitto** (in euro) per 4 appartamenti: **720, 980, 650, 1200**\n",
    "import numpy as np\n",
    "affitti = np.array([720, 980, 650, 1200])\n",
    "# 2. Calcola la **spesa totale mensile** sostenuta dagli inquilini.\n",
    "spesa_totale = np.sum(affitti)\n",
    "# 3. Il proprietario dell'appartamento da **1200 €** decide di **aumentare l’affitto del 12%**.\n",
    "#     - Modifica il vettore per applicare l’aumento.\n",
    "#     - L’importo aggiornato deve essere esattamente **1344,00 €**, controlla se appare **esattamente** nel tuo array.\n",
    "where_1200 = np.where(affitti == 1200)\n",
    "affitti[where_1200] = affitti[where_1200] * 1.12\n",
    "\n",
    "if(1344 in affitti):\n",
    "    print(\"L'importo aggiornato è esattamente 1344,00 €\")\n",
    "    spesa_totale_1200 = np.sum(affitti)\n",
    "    \n",
    "# 4. L'inquilino dell'appartamento da **650 €** ottiene uno **sconto del 10%**.\n",
    "#     - Applica la modifica.\n",
    "\n",
    "where_650 = np.where(affitti == 650)\n",
    "affitti[where_650] = affitti[where_650] * 0.9\n",
    "\n",
    "# 5. Gli altri due appartamenti (**720 € e 980 €**) subiscono un **aumento del 5%**.\n",
    "#     - Aggiorna il vettore di conseguenza.\n",
    "\n",
    "where_720 = np.where(affitti == 720)\n",
    "affitti[where_720] = affitti[where_720] * 1.05\n",
    "\n",
    "where_980 = np.where(affitti == 980)\n",
    "affitti[where_980] = affitti[where_980] * 1.05\n",
    "\n",
    "\n",
    "# 7. Calcola la **nuova spesa totale mensile** dopo tutti i cambiamenti.\n",
    "\n",
    "nuova_spesa_totale = np.sum(affitti)\n",
    "\n",
    "\n",
    "# 8. Infine: quanto ha influito **l’aumento dell’affitto più alto** sulla spesa complessiva?\n",
    "\n",
    "#     (Suggerimento: confronta la spesa totale **prima di qualsiasi modifica** e **dopo il solo aumento del canone a 1200 €**.)\n",
    "\n",
    "aumento_affitto = spesa_totale_1200 - spesa_totale\n",
    "print(f\"L'aumento dell'affitto più alto ha influito sulla spesa complessiva di: {aumento_affitto} €\")\n"
   ]
  },
  {
   "cell_type": "markdown",
   "id": "b03ca742",
   "metadata": {},
   "source": [
    "## Esercizio 2\n",
    "\n",
    "Consideriamo un semplice processo di random walk (cammino aleatorio) in una dimensione:\n",
    "a ogni passo temporale, un camminatore si sposta a destra (+1) o a sinistra (-1) con uguale probabilità. Supponiamo che il camminatore parta sempre da x=0.\n",
    "\n",
    "1. Scrivi una funzione che simula il cammino per n passi ed N camminatori e restituisce due array. Il primo rappresenta la media della posizione ad ogni passo degli N camminatori ed il secondo la deviazione standard della posizione ad ogni passo degli N camminatori.\n",
    "\n",
    "2. Fai prima il plot della media delle posizione degli N camminatori per 100 passi \n",
    "\n",
    "3. Fai il plot con anche la devizione standard.  La deviazione standard diminuisce all'aumentare del campione? Che andamento ha la deviazione standard rispeto l tempo/passi?"
   ]
  },
  {
   "cell_type": "code",
   "execution_count": null,
   "id": "985020ce",
   "metadata": {},
   "outputs": [
    {
     "name": "stdout",
     "output_type": "stream",
     "text": [
      "[ 0 -1 -2 ... 20 19 18]\n"
     ]
    }
   ],
   "source": [
    "# Consideriamo un semplice processo di random walk (cammino aleatorio) in una dimensione:\n",
    "# a ogni passo temporale, un camminatore si sposta a destra (+1) o a sinistra (-1) con uguale probabilità. Supponiamo che il camminatore parta sempre da x=0.\n",
    "\n",
    "import numpy as np\n",
    "\n",
    "def random_walk(steps):\n",
    "    step_choices = np.random.choice([-1, 1], size=steps)\n",
    "    position = np.insert(np.cumsum(step_choices), 0, 0) \n",
    "    return position\n",
    "\n",
    "# Esempio d’uso\n",
    "position = random_walk(1000)\n",
    "print(position)\n"
   ]
  },
  {
   "cell_type": "code",
   "execution_count": 13,
   "id": "7a9ccb3a",
   "metadata": {},
   "outputs": [
    {
     "name": "stdout",
     "output_type": "stream",
     "text": [
      "Media della posizione ad ogni passo: [ 0.   0.4  1.   1.2  1.2  0.8  0.8  0.2  0.  -0.2 -0.6 -0.2 -0.4 -0.2\n",
      " -0.4 -0.8 -0.8 -0.6 -0.2 -0.2  0.2  0.4  0.6  0.4  0.2  0.4  0.8  1.\n",
      "  1.   1.2  1.   0.4  0.4  0.4  0.2  0.4 -0.2 -0.2 -0.2 -0.8 -0.6 -0.8\n",
      " -1.  -1.2 -1.2 -0.8 -1.4 -1.2 -1.2 -1.4 -1.6]\n",
      "Deviazione standard della posizione ad ogni passo: [0.         0.91651514 1.         1.4        1.32664992 1.66132477\n",
      " 1.32664992 1.32664992 1.54919334 2.4        2.97321375 3.48711915\n",
      " 3.2        3.24961536 3.32264955 4.04474968 3.81575681 3.77359245\n",
      " 4.23792402 3.81575681 3.51567917 3.8        3.8        4.2\n",
      " 4.04474968 3.8        3.91918359 4.         4.02492236 3.94461658\n",
      " 4.49444101 4.47660586 4.36348485 4.00499688 3.94461658 4.10365691\n",
      " 4.14246304 4.57820926 5.17300686 5.09509568 5.66038868 5.75847202\n",
      " 5.15751878 5.32541078 5.38144962 4.77074418 5.06359556 5.2497619\n",
      " 4.57820926 4.2708313  4.54312668]\n"
     ]
    }
   ],
   "source": [
    "# 1. Scrivi una funzione che simula il cammino per n passi ed N camminatori e restituisce due array. \n",
    "# Il primo rappresenta la media della posizione ad ogni passo degli N camminatori \n",
    "# ed il secondo la deviazione standard della posizione ad ogni passo degli N camminatori.\n",
    "\n",
    "def random_walk_multiple(n, N):\n",
    "    walks = np.array([random_walk(n) for _ in range(N)])\n",
    "    \n",
    "    mean_positions = np.mean(walks, axis=0)\n",
    "    std_positions = np.std(walks, axis=0)\n",
    "    \n",
    "    return mean_positions, std_positions\n",
    "\n",
    "\n",
    "\n",
    "mean, std = random_walk_multiple(50, 10)\n",
    "print(\"Media della posizione ad ogni passo:\", mean)\n",
    "print(\"Deviazione standard della posizione ad ogni passo:\", std)\n",
    "\n",
    "    "
   ]
  },
  {
   "cell_type": "code",
   "execution_count": 42,
   "id": "b97b9923",
   "metadata": {},
   "outputs": [
    {
     "data": {
      "image/png": "[encoded data removed]",
      "text/plain": [
       "<Figure size 640x480 with 1 Axes>"
      ]
     },
     "metadata": {},
     "output_type": "display_data"
    }
   ],
   "source": [
    "# 2. Fai prima il plot della media delle posizione degli N camminatori per 100 passi \n",
    "\n",
    "import matplotlib.pyplot as plt\n",
    "\n",
    "random_walks = random_walk_multiple(100, 10000)\n",
    "# print(random_walks)\n",
    "plt.plot(random_walks[0])\n",
    "plt.title(\"Media della posizione degli N camminatori\")\n",
    "plt.xlabel(\"Passi\")\n",
    "plt.ylabel(\"Posizione Media\")\n",
    "plt.show()"
   ]
  },
  {
   "cell_type": "code",
   "execution_count": null,
   "id": "e2b5c720",
   "metadata": {},
   "outputs": [
    {
     "data": {
      "image/png": "[encoded data removed]",
      "text/plain": [
       "<Figure size 640x480 with 1 Axes>"
      ]
     },
     "metadata": {},
     "output_type": "display_data"
    }
   ],
   "source": [
    "# 3. Fai il plot con anche la devizione standard.  La deviazione standard diminuisce all'aumentare del campione?\n",
    "# Che andamento ha la deviazione standard rispeto l tempo/passi?\n",
    "plt.plot(random_walks[1])\n",
    "plt.title(\"Deviazione standard della posizione degli N camminatori\")\n",
    "plt.xlabel(\"Passi\")\n",
    "plt.ylabel(\"Deviazione Standard\")\n",
    "plt.show()\n",
    "\n",
    "# la deviazione standard aumenta all'aumentare del campione, ha un andamento crescente rispetto al tempo/passi"
   ]
  },
  {
   "cell_type": "markdown",
   "id": "f951cbf4",
   "metadata": {},
   "source": [
    "## Esercizio 3\n",
    "\n",
    "Genera un array `a` di dimensioni **5 x 9** contenente numeri da una distribuzione gaussiana con media 0 e dev standard 1.  \n",
    "Per ogni riga, seleziona il numero **più vicino a 0.1**.\n",
    "Imposta il seed per la riproducibilità `np.random.seed(42)`\n",
    "\n",
    " *Suggerimento*: per ottenere `a[i, j]`, l'array `i` deve contenere gli **indici di riga** corrispondenti agli elementi in `j`.\n"
   ]
  },
  {
   "cell_type": "code",
   "execution_count": null,
   "id": "8fd28391",
   "metadata": {},
   "outputs": [
    {
     "name": "stdout",
     "output_type": "stream",
     "text": [
      "\n",
      "Indices of values closest to 0.1:\n",
      "[1 3 7 5 5]\n",
      "\n",
      "Values closest to 0.1:\n",
      "Row 0: -0.13826430117118466\n",
      "Row 1: 0.24196227156603412\n",
      "Row 2: 0.11092258970986608\n",
      "Row 3: -0.013497224737933921\n",
      "Row 4: 0.1713682811899705\n"
     ]
    }
   ],
   "source": [
    "np.random.seed(42)\n",
    "a = np.random.normal(0, 1, size=(5, 9))  \n",
    "# print(a)\n",
    "\n",
    "value = 0.1\n",
    "closest_indices = np.zeros(a.shape[0], dtype=int)\n",
    "\n",
    "for i in range(a.shape[0]):\n",
    "    distances = np.abs(a[i, :] - value)\n",
    "    closest_indices[i] = np.argmin(distances)\n",
    "        \n",
    "print(\"\\nIndices of values closest to 0.1:\")\n",
    "print(closest_indices)\n",
    "\n",
    "print(\"\\nValues closest to 0.1:\")\n",
    "for i in range(a.shape[0]):\n",
    "    closest_idx = closest_indices[i]\n",
    "    print(f\"Row {i}: {a[i, closest_idx]}\")\n"
   ]
  },
  {
   "cell_type": "markdown",
   "id": "1854b021",
   "metadata": {},
   "source": [
    "## Esercizio 4\n",
    "\n",
    "Utilizza il dataset `titanic`, disponibile all'url = \"https://raw.githubusercontent.com/datasciencedojo/datasets/master/titanic.csv\"\n",
    "\n",
    "Esegui un’analisi esplorativa sui dati dei passeggeri, focalizzandoti su tariffe, età e componenti familiari.\n",
    "\n",
    "1. **Visualizza i primi 10 passeggeri ordinati per tariffa pagata** (`Fare`), dal più alto al più basso.\n",
    "\n",
    "2. **Calcola la media** di:\n",
    "   - `Age` (età)\n",
    "   - `Fare` (tariffa)\n",
    "   - `SibSp` (numero di fratelli/coniugi a bordo)\n",
    "\n",
    "3. **Crea una nuova colonna** chiamata `Family_index`, definita come:\n",
    "\n",
    "   $$\n",
    "   \\texttt{family\\_index} = \\frac{\\texttt{sibsp} + \\texttt{parch}}{\\texttt{fare}}\n",
    "   $$\n",
    "\n",
    "   *(Indicatore del “peso familiare” per unità di spesa – attenzione a eventuali divisioni per zero!)*\n",
    "\n",
    "4. Trova il **passeggero con il valore massimo** di `Family_index`.\n",
    "\n",
    "5. **Filtra solo i passeggeri** che hanno pagato **più di 100** di tariffa (`Fare > 100`).\n",
    "\n",
    "6. **Crea un grafico a barre** con i 10 passeggeri che hanno pagato di più (`Fare`).\n",
    "\n",
    "7. **Crea un grafico a linee** dell’età (`Age`), ordinando i passeggeri per tariffa (`Fare`) crescente.\n",
    "\n",
    "\n",
    "\n",
    "💡 *Suggerimenti*:\n",
    "- Ricordati di gestire eventuali valori mancanti in `Age` o `Fare` prima di fare operazioni.\n"
   ]
  },
  {
   "cell_type": "code",
   "execution_count": 60,
   "id": "aee08d65",
   "metadata": {},
   "outputs": [
    {
     "name": "stdout",
     "output_type": "stream",
     "text": [
      "   PassengerId                                               Name     Fare\n",
      "1            2  Cumings, Mrs. John Bradley (Florence Briggs Th...  71.2833\n",
      "3            4       Futrelle, Mrs. Jacques Heath (Lily May Peel)  53.1000\n",
      "6            7                            McCarthy, Mr. Timothy J  51.8625\n",
      "9           10                Nasser, Mrs. Nicholas (Adele Achem)  30.0708\n",
      "7            8                     Palsson, Master. Gosta Leonard  21.0750\n",
      "8            9  Johnson, Mrs. Oscar W (Elisabeth Vilhelmina Berg)  11.1333\n",
      "5            6                                   Moran, Mr. James   8.4583\n",
      "4            5                           Allen, Mr. William Henry   8.0500\n",
      "2            3                             Heikkinen, Miss. Laina   7.9250\n",
      "0            1                            Braund, Mr. Owen Harris   7.2500\n"
     ]
    }
   ],
   "source": [
    "# Utilizza il dataset `titanic`, disponibile all'url = \"https://raw.githubusercontent.com/datasciencedojo/datasets/master/titanic.csv\"\n",
    "\n",
    "# Esegui un’analisi esplorativa sui dati dei passeggeri, focalizzandoti su tariffe, età e componenti familiari.\n",
    "\n",
    "# 1. **Visualizza i primi 10 passeggeri ordinati per tariffa pagata** (`Fare`), dal più alto al più basso.\n",
    "import pandas as pd\n",
    "url = \"https://raw.githubusercontent.com/datasciencedojo/datasets/master/titanic.csv\"\n",
    "df = pd.read_csv(url)\n",
    "passengers = df[['PassengerId', 'Name', 'Fare']]\n",
    "print(passengers.head(10).sort_values(by='Fare', ascending=False))\n"
   ]
  },
  {
   "cell_type": "code",
   "execution_count": 61,
   "id": "a49db8bd",
   "metadata": {},
   "outputs": [
    {
     "name": "stdout",
     "output_type": "stream",
     "text": [
      "\n",
      "Media dell'età: 29.69911764705882\n",
      "Media della tariffa: 32.204207968574636\n",
      "Media del numero di fratelli/coniugi a bordo: 0.5230078563411896\n"
     ]
    }
   ],
   "source": [
    "# 2. **Calcola la media** di:\n",
    "#    - `Age` (età)\n",
    "#    - `Fare` (tariffa)\n",
    "#    - `SibSp` (numero di fratelli/coniugi a bordo)\n",
    "print(\"\\nMedia dell'età:\", df['Age'].mean())\n",
    "print(\"Media della tariffa:\", df['Fare'].mean())\n",
    "print(\"Media del numero di fratelli/coniugi a bordo:\", df['SibSp'].mean())"
   ]
  },
  {
   "cell_type": "code",
   "execution_count": null,
   "id": "cf1034ab",
   "metadata": {},
   "outputs": [
    {
     "name": "stdout",
     "output_type": "stream",
     "text": [
      "\n",
      "Nuova colonna Family_index:\n",
      "0      0.137931\n",
      "1      0.014029\n",
      "2      0.000000\n",
      "3      0.018832\n",
      "4      0.000000\n",
      "         ...   \n",
      "886    0.000000\n",
      "887    0.000000\n",
      "888    0.127932\n",
      "889    0.000000\n",
      "890    0.000000\n",
      "Name: Family_index, Length: 891, dtype: float64\n"
     ]
    }
   ],
   "source": [
    "# 3. **Crea una nuova colonna** chiamata `Family_index`, definita come:\n",
    "\n",
    "#    $$\n",
    "#    \\texttt{family\\_index} = \\frac{\\texttt{sibsp} + \\texttt{parch}}{\\texttt{fare}}\n",
    "#    $$\n",
    "\n",
    "#    *(Indicatore del “peso familiare” per unità di spesa – attenzione a eventuali divisioni per zero!)*\n",
    "df['Family_index'] = (df['SibSp'] + df['Parch']) / df['Fare'].replace(0, np.nan)\n",
    "print(\"\\nNuova colonna Family_index:\")\n",
    "print(df['Family_index'].head(10))\n"
   ]
  },
  {
   "cell_type": "code",
   "execution_count": null,
   "id": "6b9c323b",
   "metadata": {},
   "outputs": [],
   "source": []
  },
  {
   "cell_type": "code",
   "execution_count": null,
   "id": "434770a8",
   "metadata": {},
   "outputs": [],
   "source": []
  },
  {
   "cell_type": "code",
   "execution_count": null,
   "id": "211ca8b3",
   "metadata": {},
   "outputs": [],
   "source": []
  },
  {
   "cell_type": "code",
   "execution_count": null,
   "id": "e4f1cbe3",
   "metadata": {},
   "outputs": [],
   "source": []
  },
  {
   "cell_type": "markdown",
   "id": "dc6f5b0c",
   "metadata": {},
   "source": [
    "## Esercizio 5\n",
    "\n",
    "Usa il dataset `penguins`, disponibile tramite `seaborn.load_dataset(\"penguins\")`.\n",
    "\n",
    "\n",
    "1. Quante righe e colonne ha il dataset?\n",
    "\n",
    "2. Controlla quanti valori mancanti ci sono per colonna.\n",
    "\n",
    "3. Riempi i valori mancanti nella colonna `sex` con il valore più frequente.\n",
    "\n",
    "4. Rimuovi le righe in cui il valore `body_mass_g` è mancante.\n",
    "\n",
    "5. Controlla se ci sono righe duplicate.\n",
    "\n",
    "6. Calcola la **massa corporea media** (`body_mass_g`) per ogni specie (`species`).\n",
    "  Se ci sono valori mancanti in `body_mass_g`, riempili con la media della specie.\n",
    "\n",
    "7. Visualizza la **distribuzione della massa corporea** (`body_mass_g`) per specie.\n",
    "\n",
    "8.  Visualizza la **distribuzione della massa corporea** per specie, **dividendo per sesso** (`sex`) e mostrandoli a confronto.\n",
    "\n",
    "\n",
    "💡 Suggerimento: usa `seaborn.violinplot()`, `boxplot()` o `kdeplot()` con `hue='sex'`.\n"
   ]
  },
  {
   "cell_type": "markdown",
   "id": "258bfdca",
   "metadata": {},
   "source": [
    "## Esercizio 6\n",
    "\n",
    "Hai due array NumPy generati come segue:\n",
    "\n",
    "`x = np.linspace(0, 10, 100)`  \n",
    "`y = 3 * x + 2 + np.random.normal(0, 1, 100)`\n",
    "\n",
    "Scrivi una funzione `fit_line(x, y)` che:\n",
    "\n",
    "- usa `scipy.optimize.curve_fit` per eseguire un **fitting lineare** del tipo `y = a * x + b`;  \n",
    "- restituisce una tupla contenente:\n",
    "  - i **parametri ottimizzati** `a` e `b`;  \n",
    "  - una **stringa** che descrive la retta trovata, ad esempio: `\"y = 3.02 * x + 1.95\"`.\n",
    "\n",
    "\n",
    "Esempio di output atteso:   (3.02, 1.95, \"y = 3.02 * x + 1.95\")\n",
    "\n",
    "Fai un esempio di utilizzo dove poi plotti i dati e la curva ottenuta.\n"
   ]
  },
  {
   "cell_type": "code",
   "execution_count": null,
   "id": "bd5fe7c7",
   "metadata": {},
   "outputs": [],
   "source": []
  }
 ],
 "metadata": {
  "kernelspec": {
   "display_name": "base",
   "language": "python",
   "name": "python3"
  },
  "language_info": {
   "codemirror_mode": {
    "name": "ipython",
    "version": 3
   },
   "file_extension": ".py",
   "mimetype": "text/x-python",
   "name": "python",
   "nbconvert_exporter": "python",
   "pygments_lexer": "ipython3",
   "version": "3.12.7"
  }
 },
 "nbformat": 4,
 "nbformat_minor": 5
}
