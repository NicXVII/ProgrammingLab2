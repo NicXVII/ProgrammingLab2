{
 "cells": [
  {
   "cell_type": "markdown",
   "metadata": {},
   "source": [
    "### **1. Trasformare cicli in list comprehension**\n",
    "\n",
    "Fai tre esempi di cicli producono una lista e poi riscrivi lo stesso codice usando la list comprehension"
   ]
  },
  {
   "cell_type": "code",
   "execution_count": 13,
   "metadata": {},
   "outputs": [],
   "source": [
    "a = list()\n",
    "for i in range(10):  # Added missing colon\n",
    "    a.append(i)\n",
    "    \n",
    "b = list()\n",
    "for i in range(10):\n",
    "    if(i % 2 == 0):\n",
    "        b.append(i)\n",
    "        \n",
    "\n",
    "c = list()\n",
    "\n",
    "for i in range(10):\n",
    "    if(i % 2 == 1):\n",
    "        c.append(i)\n",
    "        \n",
    "alist = [i for i in range(10)]\n",
    "blist = [i for i in range(10) if i % 2 == 0]\n",
    "c_list = [i for i in range(10) if i % 2 == 1]"
   ]
  },
  {
   "cell_type": "markdown",
   "metadata": {},
   "source": [
    "### **2. Vettore di Numeri Primi**\n",
    "\n",
    "1. **Crea un vettore** contenente tutti i numeri primi compresi tra **0 e 10**  \n",
    "   _(Puoi scriverli direttamente nell'array)._\n",
    "\n",
    "2. **Conta quanti numeri ci sono nel vettore** utilizzando la funzione `len()`.  **Ottieni lo stesso numero** accedendo all'attributo `.size` del vettore.\n",
    "\n",
    "3. Quale pensi sia il tipo di dato (`dtype`) del vettore?  Prova a rispondere senza eseguire il codice e Verifica la tua risposta accedendo all'attributo `.dtype` del vettore\n",
    "\n",
    "4. Scrivi l'array usando una list comprehension che controlla che i numeri siano primi. "
   ]
  },
  {
   "cell_type": "code",
   "execution_count": 21,
   "metadata": {},
   "outputs": [],
   "source": [
    "import numpy as np\n",
    "vet = np.array([1,3,5,7])\n",
    "size = len(vet)\n",
    "\n",
    "vetListCompr = [i for i in range(10) if i % 2 == 1 for k in range(i // 2) if k % 2 == 1]\n"
   ]
  },
  {
   "cell_type": "markdown",
   "metadata": {},
   "source": [
    "### **3.  Operazioni su array**\n",
    "Crea un array **a**, 1D (senza digitarlo esplicitamente), e genera due nuovi array **b**, contenente una sottostringa a piacere e **c** che è il reverse dell'array **a** (esempio [1,2,3] diventa [3,2,1]) .  Dividi l'array **a** per l'array **c**. Fai la stessa cosa per una lista."
   ]
  },
  {
   "cell_type": "code",
   "execution_count": null,
   "metadata": {},
   "outputs": [
    {
     "name": "stdout",
     "output_type": "stream",
     "text": [
      "Array a: [ 1  2  3  4  5  6  7  8  9 10]\n",
      "Array b (slice di a): [3 4 5]\n",
      "Array c (reverse di a): [10  9  8  7  6  5  4  3  2  1]\n",
      "Divisione a/c: [ 0.1         0.22222222  0.375       0.57142857  0.83333333  1.2\n",
      "  1.75        2.66666667  4.5        10.        ]\n",
      "\n",
      "Lista a_list: [1, 2, 3, 4, 5, 6, 7, 8, 9, 10]\n",
      "Lista b_list (slice di a_list): [3, 4, 5]\n",
      "Lista c_list (reverse di a_list): [10, 9, 8, 7, 6, 5, 4, 3, 2, 1]\n",
      "Divisione a_list/c_list: [0.1, 0.2222222222222222, 0.375, 0.5714285714285714, 0.8333333333333334, 1.2, 1.75, 2.6666666666666665, 4.5, 10.0]\n"
     ]
    }
   ],
   "source": [
    "import numpy as np\n",
    "\n",
    "a = [0,1,2,3,4,5,6,7,8,9]\n",
    "\n",
    "b = a[2:5]  \n",
    "\n",
    "c = a[::-1]  \n",
    "\n",
    "division = a / c\n",
    "\n",
    "print(\"Array a:\", a)\n",
    "print(\"Array b (slice di a):\", b)\n",
    "print(\"Array c (reverse di a):\", c)\n",
    "print(\"Divisione a/c:\", division)\n",
    "\n",
    "# --------------------------------------------------\n",
    "\n",
    "a_list = list(range(1, 11)) \n",
    "\n",
    "b_list = a_list[2:5]  # ad esempio: [3, 4, 5]\n",
    "\n",
    "c_list = a_list[::-1]  # ad esempio: [10, 9, 8, ..., 1]\n",
    "\n",
    "division_list = [x / y for x, y in zip(a_list, c_list)]\n",
    "\n",
    "print(\"\\nLista a_list:\", a_list)\n",
    "print(\"Lista b_list (slice di a_list):\", b_list)\n",
    "print(\"Lista c_list (reverse di a_list):\", c_list)\n",
    "print(\"Divisione a_list/c_list:\", division_list)\n"
   ]
  }
 ],
 "metadata": {
  "kernelspec": {
   "display_name": "Python 3",
   "language": "python",
   "name": "python3"
  },
  "language_info": {
   "codemirror_mode": {
    "name": "ipython",
    "version": 3
   },
   "file_extension": ".py",
   "mimetype": "text/x-python",
   "name": "python",
   "nbconvert_exporter": "python",
   "pygments_lexer": "ipython3",
   "version": "3.12.7"
  }
 },
 "nbformat": 4,
 "nbformat_minor": 2
}
