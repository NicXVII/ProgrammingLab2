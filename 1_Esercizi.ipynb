{
 "cells": [
  {
   "cell_type": "markdown",
   "metadata": {},
   "source": [
    "### **1. Trasformare cicli in list comprehension**\n",
    "\n",
    "Fai tre esempi di cicli producono una lista e poi riscrivi lo stesso codice usando la list comprehension"
   ]
  },
  {
   "cell_type": "code",
   "execution_count": null,
   "metadata": {},
   "outputs": [],
   "source": []
  },
  {
   "cell_type": "markdown",
   "metadata": {},
   "source": [
    "### **2. Vettore di Numeri Primi**\n",
    "\n",
    "1. **Crea un vettore** contenente tutti i numeri primi compresi tra **0 e 10**  \n",
    "   _(Puoi scriverli direttamente nell'array)._\n",
    "\n",
    "2. **Conta quanti numeri ci sono nel vettore** utilizzando la funzione `len()`.  **Ottieni lo stesso numero** accedendo all'attributo `.size` del vettore.\n",
    "\n",
    "3. Quale pensi sia il tipo di dato (`dtype`) del vettore?  Prova a rispondere senza eseguire il codice e Verifica la tua risposta accedendo all'attributo `.dtype` del vettore\n",
    "\n",
    "4. Scrivi l'array usando una list comprehension che controlla che i numeri siano primi. "
   ]
  },
  {
   "cell_type": "code",
   "execution_count": null,
   "metadata": {},
   "outputs": [],
   "source": []
  },
  {
   "cell_type": "markdown",
   "metadata": {},
   "source": [
    "### **3.  Operazioni su array**\n",
    "Crea un array **a**, 1D (senza digitarlo esplicitamente), e genera due nuovi array **b**, contenente una sottostringa a piacere e **c** che è il reverse dell'array **a** (esempio [1,2,3] diventa [3,2,1]) .  Dividi l'array **a** per l'array **c**. Fai la stessa cosa per una lista."
   ]
  },
  {
   "cell_type": "code",
   "execution_count": null,
   "metadata": {},
   "outputs": [
    {
     "name": "stdout",
     "output_type": "stream",
     "text": [
      "0.04\n",
      "0.4166666666666667\n",
      "1.0\n",
      "2.4\n",
      "25.0\n"
     ]
    }
   ],
   "source": [
    "import numpy as np\n",
    "\n",
    "# Operazioni con array NumPy\n",
    "# Creiamo l'array a usando np.arange (senza digitare esplicitamente ogni elemento)\n",
    "a = np.arange(1, 11)  # array: [1, 2, 3, ..., 10]\n",
    "\n",
    "# Generiamo l'array b come sottostringa (slice) di a; ad esempio, gli elementi dall'indice 2 all'indice 4\n",
    "b = a[2:5]  # ad esempio: [3, 4, 5]\n",
    "\n",
    "# Generiamo l'array c che è il reverse di a\n",
    "c = a[::-1]  # inverte l'ordine, ad esempio: [10, 9, 8, ..., 1]\n",
    "\n",
    "# Dividiamo elemento per elemento l'array a per l'array c\n",
    "division = a / c\n",
    "\n",
    "print(\"Array a:\", a)\n",
    "print(\"Array b (slice di a):\", b)\n",
    "print(\"Array c (reverse di a):\", c)\n",
    "print(\"Divisione a/c:\", division)\n",
    "\n",
    "# --------------------------------------------------\n",
    "\n",
    "# Operazioni con una lista Python\n",
    "# Creiamo la lista a_list usando range (senza digitare esplicitamente ogni elemento)\n",
    "a_list = list(range(1, 11))  # lista: [1, 2, 3, ..., 10]\n",
    "\n",
    "# Generiamo la lista b_list come sottolista di a_list (slice); ad esempio, elementi dall'indice 2 all'indice 4\n",
    "b_list = a_list[2:5]  # ad esempio: [3, 4, 5]\n",
    "\n",
    "# Generiamo la lista c_list che è il reverse di a_list\n",
    "c_list = a_list[::-1]  # ad esempio: [10, 9, 8, ..., 1]\n",
    "\n",
    "# Dividiamo elemento per elemento la lista a_list per c_list\n",
    "# Poiché le liste non supportano direttamente operazioni aritmetiche, usiamo una list comprehension\n",
    "division_list = [x / y for x, y in zip(a_list, c_list)]\n",
    "\n",
    "print(\"\\nLista a_list:\", a_list)\n",
    "print(\"Lista b_list (slice di a_list):\", b_list)\n",
    "print(\"Lista c_list (reverse di a_list):\", c_list)\n",
    "print(\"Divisione a_list/c_list:\", division_list)\n"
   ]
  }
 ],
 "metadata": {
  "kernelspec": {
   "display_name": "Python 3",
   "language": "python",
   "name": "python3"
  },
  "language_info": {
   "codemirror_mode": {
    "name": "ipython",
    "version": 3
   },
   "file_extension": ".py",
   "mimetype": "text/x-python",
   "name": "python",
   "nbconvert_exporter": "python",
   "pygments_lexer": "ipython3",
   "version": "3.12.7"
  }
 },
 "nbformat": 4,
 "nbformat_minor": 2
}
