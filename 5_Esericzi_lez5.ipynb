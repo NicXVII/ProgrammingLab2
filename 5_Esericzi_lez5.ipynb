{
 "cells": [
  {
   "cell_type": "markdown",
   "id": "fcfd57ac",
   "metadata": {},
   "source": [
    "# 4. Rispondere alle domande\n",
    "Trasforma le seguenti richiesti in formule per estrarre infromazioni dal dataframe\n",
    "- Mostrami le vendite maggiori di 10\n",
    "\n",
    "- Mostrami i dati del 2018\n",
    "\n",
    "- Mostrami le vendite maggiori di 13 e l'anno è il 2018\n",
    "\n",
    "- Mostrami tutto TRANNE i casi in cui le vendite sono maggiori di 13 e l'anno è il 2018\n",
    "\n",
    "- Mostrami i dati dove le vendite divise per 3 sono maggiori di 3\n",
    "\n",
    "- Mostrami i dipendenti i cui nomi sono alfabeticamente dopo la J\n",
    "\n"
   ]
  },
  {
   "cell_type": "code",
   "execution_count": 11,
   "id": "5bf839a1",
   "metadata": {},
   "outputs": [
    {
     "data": {
      "text/html": [
       "<div>\n",
       "<style scoped>\n",
       "    .dataframe tbody tr th:only-of-type {\n",
       "        vertical-align: middle;\n",
       "    }\n",
       "\n",
       "    .dataframe tbody tr th {\n",
       "        vertical-align: top;\n",
       "    }\n",
       "\n",
       "    .dataframe thead th {\n",
       "        text-align: right;\n",
       "    }\n",
       "</style>\n",
       "<table border=\"1\" class=\"dataframe\">\n",
       "  <thead>\n",
       "    <tr style=\"text-align: right;\">\n",
       "      <th></th>\n",
       "      <th>employee</th>\n",
       "      <th>sales</th>\n",
       "      <th>year</th>\n",
       "    </tr>\n",
       "  </thead>\n",
       "  <tbody>\n",
       "    <tr>\n",
       "      <th>0</th>\n",
       "      <td>Katrina</td>\n",
       "      <td>14</td>\n",
       "      <td>2018</td>\n",
       "    </tr>\n",
       "    <tr>\n",
       "      <th>1</th>\n",
       "      <td>Guanyu</td>\n",
       "      <td>17</td>\n",
       "      <td>2019</td>\n",
       "    </tr>\n",
       "    <tr>\n",
       "      <th>2</th>\n",
       "      <td>Jan</td>\n",
       "      <td>6</td>\n",
       "      <td>2020</td>\n",
       "    </tr>\n",
       "    <tr>\n",
       "      <th>3</th>\n",
       "      <td>Roman</td>\n",
       "      <td>12</td>\n",
       "      <td>2018</td>\n",
       "    </tr>\n",
       "    <tr>\n",
       "      <th>4</th>\n",
       "      <td>Jacqueline</td>\n",
       "      <td>8</td>\n",
       "      <td>2020</td>\n",
       "    </tr>\n",
       "    <tr>\n",
       "      <th>5</th>\n",
       "      <td>Paola</td>\n",
       "      <td>3</td>\n",
       "      <td>2019</td>\n",
       "    </tr>\n",
       "    <tr>\n",
       "      <th>6</th>\n",
       "      <td>Esperanza</td>\n",
       "      <td>7</td>\n",
       "      <td>2019</td>\n",
       "    </tr>\n",
       "    <tr>\n",
       "      <th>7</th>\n",
       "      <td>Alaina</td>\n",
       "      <td>15</td>\n",
       "      <td>2020</td>\n",
       "    </tr>\n",
       "    <tr>\n",
       "      <th>8</th>\n",
       "      <td>Egweyn</td>\n",
       "      <td>5</td>\n",
       "      <td>2020</td>\n",
       "    </tr>\n",
       "  </tbody>\n",
       "</table>\n",
       "</div>"
      ],
      "text/plain": [
       "     employee  sales  year\n",
       "0     Katrina     14  2018\n",
       "1      Guanyu     17  2019\n",
       "2         Jan      6  2020\n",
       "3       Roman     12  2018\n",
       "4  Jacqueline      8  2020\n",
       "5       Paola      3  2019\n",
       "6   Esperanza      7  2019\n",
       "7      Alaina     15  2020\n",
       "8      Egweyn      5  2020"
      ]
     },
     "execution_count": 11,
     "metadata": {},
     "output_type": "execute_result"
    }
   ],
   "source": [
    "import pandas as pd\n",
    "import matplotlib as plt\n",
    "import seaborn as sns\n",
    "import numpy as np\n",
    "\n",
    "sales = pd.DataFrame(\n",
    "    data={\n",
    "        \"employee\": [\n",
    "            \"Katrina\",\n",
    "            \"Guanyu\",\n",
    "            \"Jan\",\n",
    "            \"Roman\",\n",
    "            \"Jacqueline\",\n",
    "            \"Paola\",\n",
    "            \"Esperanza\",\n",
    "            \"Alaina\",\n",
    "            \"Egweyn\",\n",
    "        ],\n",
    "        \"sales\": [14, 17, 6, 12, 8, 3, 7, 15, 5],\n",
    "        \"year\": [2018, 2019, 2020, 2018, 2020, 2019, 2019, 2020, 2020],\n",
    "    }\n",
    ")\n",
    "sales"
   ]
  },
  {
   "cell_type": "code",
   "execution_count": 12,
   "id": "265c42c9",
   "metadata": {},
   "outputs": [
    {
     "name": "stdout",
     "output_type": "stream",
     "text": [
      "  employee  sales  year\n",
      "0  Katrina     14  2018\n",
      "1   Guanyu     17  2019\n",
      "3    Roman     12  2018\n",
      "7   Alaina     15  2020\n"
     ]
    }
   ],
   "source": [
    "# - Mostrami le vendite maggiori di 10\n",
    "print(sales[sales[\"sales\"] > 10])"
   ]
  },
  {
   "cell_type": "code",
   "execution_count": 13,
   "id": "635f9aa0",
   "metadata": {},
   "outputs": [
    {
     "name": "stdout",
     "output_type": "stream",
     "text": [
      "  employee  sales  year\n",
      "0  Katrina     14  2018\n",
      "3    Roman     12  2018\n"
     ]
    }
   ],
   "source": [
    "# - Mostrami i dati del 2018\n",
    "print(sales[sales[\"year\"] == 2018])"
   ]
  },
  {
   "cell_type": "code",
   "execution_count": 14,
   "id": "86a70c99",
   "metadata": {},
   "outputs": [
    {
     "name": "stdout",
     "output_type": "stream",
     "text": [
      "  employee  sales  year\n",
      "0  Katrina     14  2018\n"
     ]
    },
    {
     "name": "stderr",
     "output_type": "stream",
     "text": [
      "C:\\Users\\acer\\AppData\\Local\\Temp\\ipykernel_11712\\2308781755.py:2: UserWarning: Boolean Series key will be reindexed to match DataFrame index.\n",
      "  print(sales[sales[\"sales\"] > 13][sales[\"year\"] == 2018])\n"
     ]
    }
   ],
   "source": [
    "# - Mostrami le vendite maggiori di 13 e l'anno è il 2018\n",
    "print(sales[sales[\"sales\"] > 13][sales[\"year\"] == 2018])"
   ]
  },
  {
   "cell_type": "code",
   "execution_count": 18,
   "id": "645c0443",
   "metadata": {},
   "outputs": [
    {
     "name": "stdout",
     "output_type": "stream",
     "text": [
      "     employee  sales  year\n",
      "2         Jan      6  2020\n",
      "4  Jacqueline      8  2020\n",
      "5       Paola      3  2019\n",
      "6   Esperanza      7  2019\n",
      "8      Egweyn      5  2020\n"
     ]
    },
    {
     "name": "stderr",
     "output_type": "stream",
     "text": [
      "C:\\Users\\acer\\AppData\\Local\\Temp\\ipykernel_11712\\3788844144.py:2: UserWarning: Boolean Series key will be reindexed to match DataFrame index.\n",
      "  print(sales[sales[\"sales\"] <13][sales[\"year\"] != 2018])\n"
     ]
    }
   ],
   "source": [
    "# - Mostrami tutto TRANNE i casi in cui le vendite sono maggiori di 13 e l'anno è il 2018\n",
    "print(sales[sales[\"sales\"] <13][sales[\"year\"] != 2018])"
   ]
  },
  {
   "cell_type": "code",
   "execution_count": 19,
   "id": "bdcf4179",
   "metadata": {},
   "outputs": [
    {
     "name": "stdout",
     "output_type": "stream",
     "text": [
      "  employee  sales  year\n",
      "0  Katrina     14  2018\n",
      "1   Guanyu     17  2019\n",
      "3    Roman     12  2018\n",
      "7   Alaina     15  2020\n"
     ]
    }
   ],
   "source": [
    "# - Mostrami i dati dove le vendite divise per 3 sono maggiori di 3\n",
    "print(sales[sales[\"sales\"] / 3 > 3])"
   ]
  },
  {
   "cell_type": "code",
   "execution_count": 20,
   "id": "f3165955",
   "metadata": {},
   "outputs": [
    {
     "name": "stdout",
     "output_type": "stream",
     "text": [
      "     employee  sales  year\n",
      "0     Katrina     14  2018\n",
      "2         Jan      6  2020\n",
      "3       Roman     12  2018\n",
      "4  Jacqueline      8  2020\n",
      "5       Paola      3  2019\n"
     ]
    }
   ],
   "source": [
    "# - Mostrami i dipendenti i cui nomi sono alfabeticamente dopo la J\n",
    "print(sales[sales['employee'] > 'J'])"
   ]
  },
  {
   "attachments": {
    "image.png": {
     "image/png": "[encoded data removed]"
    }
   },
   "cell_type": "markdown",
   "id": "e32d71e6",
   "metadata": {},
   "source": [
    "# 5. Analisi di un dataset di video giochi\n",
    "1. Quanti videogiochi sono stati pubblicati\n",
    "2. Quali sono i generi più popolari? Mostralo con un bar plot\n",
    "3. Plotta l'evoluzione del numero di giochi pubblicati nel tempo\n",
    "4. Prova a riprodurre questo plot \n",
    "![image.png](attachment:image.png)\n"
   ]
  },
  {
   "cell_type": "code",
   "execution_count": 15,
   "id": "5219b159",
   "metadata": {},
   "outputs": [
    {
     "data": {
      "text/html": [
       "<div>\n",
       "<style scoped>\n",
       "    .dataframe tbody tr th:only-of-type {\n",
       "        vertical-align: middle;\n",
       "    }\n",
       "\n",
       "    .dataframe tbody tr th {\n",
       "        vertical-align: top;\n",
       "    }\n",
       "\n",
       "    .dataframe thead th {\n",
       "        text-align: right;\n",
       "    }\n",
       "</style>\n",
       "<table border=\"1\" class=\"dataframe\">\n",
       "  <thead>\n",
       "    <tr style=\"text-align: right;\">\n",
       "      <th></th>\n",
       "      <th>Rank</th>\n",
       "      <th>Name</th>\n",
       "      <th>Platform</th>\n",
       "      <th>Year</th>\n",
       "      <th>Genre</th>\n",
       "      <th>Publisher</th>\n",
       "      <th>NA_Sales</th>\n",
       "      <th>EU_Sales</th>\n",
       "      <th>JP_Sales</th>\n",
       "      <th>Other_Sales</th>\n",
       "      <th>Global_Sales</th>\n",
       "    </tr>\n",
       "  </thead>\n",
       "  <tbody>\n",
       "    <tr>\n",
       "      <th>0</th>\n",
       "      <td>1</td>\n",
       "      <td>Wii Sports</td>\n",
       "      <td>Wii</td>\n",
       "      <td>2006.0</td>\n",
       "      <td>Sports</td>\n",
       "      <td>Nintendo</td>\n",
       "      <td>41.49</td>\n",
       "      <td>29.02</td>\n",
       "      <td>3.77</td>\n",
       "      <td>8.46</td>\n",
       "      <td>82.74</td>\n",
       "    </tr>\n",
       "    <tr>\n",
       "      <th>1</th>\n",
       "      <td>2</td>\n",
       "      <td>Super Mario Bros.</td>\n",
       "      <td>NES</td>\n",
       "      <td>1985.0</td>\n",
       "      <td>Platform</td>\n",
       "      <td>Nintendo</td>\n",
       "      <td>29.08</td>\n",
       "      <td>3.58</td>\n",
       "      <td>6.81</td>\n",
       "      <td>0.77</td>\n",
       "      <td>40.24</td>\n",
       "    </tr>\n",
       "    <tr>\n",
       "      <th>2</th>\n",
       "      <td>3</td>\n",
       "      <td>Mario Kart Wii</td>\n",
       "      <td>Wii</td>\n",
       "      <td>2008.0</td>\n",
       "      <td>Racing</td>\n",
       "      <td>Nintendo</td>\n",
       "      <td>15.85</td>\n",
       "      <td>12.88</td>\n",
       "      <td>3.79</td>\n",
       "      <td>3.31</td>\n",
       "      <td>35.82</td>\n",
       "    </tr>\n",
       "    <tr>\n",
       "      <th>3</th>\n",
       "      <td>4</td>\n",
       "      <td>Wii Sports Resort</td>\n",
       "      <td>Wii</td>\n",
       "      <td>2009.0</td>\n",
       "      <td>Sports</td>\n",
       "      <td>Nintendo</td>\n",
       "      <td>15.75</td>\n",
       "      <td>11.01</td>\n",
       "      <td>3.28</td>\n",
       "      <td>2.96</td>\n",
       "      <td>33.00</td>\n",
       "    </tr>\n",
       "    <tr>\n",
       "      <th>4</th>\n",
       "      <td>5</td>\n",
       "      <td>Pokemon Red/Pokemon Blue</td>\n",
       "      <td>GB</td>\n",
       "      <td>1996.0</td>\n",
       "      <td>Role-Playing</td>\n",
       "      <td>Nintendo</td>\n",
       "      <td>11.27</td>\n",
       "      <td>8.89</td>\n",
       "      <td>10.22</td>\n",
       "      <td>1.00</td>\n",
       "      <td>31.37</td>\n",
       "    </tr>\n",
       "  </tbody>\n",
       "</table>\n",
       "</div>"
      ],
      "text/plain": [
       "   Rank                      Name Platform    Year         Genre Publisher  \\\n",
       "0     1                Wii Sports      Wii  2006.0        Sports  Nintendo   \n",
       "1     2         Super Mario Bros.      NES  1985.0      Platform  Nintendo   \n",
       "2     3            Mario Kart Wii      Wii  2008.0        Racing  Nintendo   \n",
       "3     4         Wii Sports Resort      Wii  2009.0        Sports  Nintendo   \n",
       "4     5  Pokemon Red/Pokemon Blue       GB  1996.0  Role-Playing  Nintendo   \n",
       "\n",
       "   NA_Sales  EU_Sales  JP_Sales  Other_Sales  Global_Sales  \n",
       "0     41.49     29.02      3.77         8.46         82.74  \n",
       "1     29.08      3.58      6.81         0.77         40.24  \n",
       "2     15.85     12.88      3.79         3.31         35.82  \n",
       "3     15.75     11.01      3.28         2.96         33.00  \n",
       "4     11.27      8.89     10.22         1.00         31.37  "
      ]
     },
     "execution_count": 15,
     "metadata": {},
     "output_type": "execute_result"
    }
   ],
   "source": [
    "# Import dei pacchetti\n",
    "import pandas as pd\n",
    "import matplotlib.pyplot as plt\n",
    "import seaborn as sns\n",
    "\n",
    "# Caricamento del dataset\n",
    "url = 'https://zenodo.org/record/5898311/files/vgsales.csv'\n",
    "df = pd.read_csv(url)\n",
    "df.head()"
   ]
  },
  {
   "cell_type": "code",
   "execution_count": 16,
   "id": "b5068ec6",
   "metadata": {},
   "outputs": [
    {
     "name": "stdout",
     "output_type": "stream",
     "text": [
      "Il numero totale di videogiochi pubblicati è: 16598\n"
     ]
    }
   ],
   "source": [
    "# 1. Quanti videogiochi sono stati pubblicati\n",
    "print(f\"Il numero totale di videogiochi pubblicati è: {df.shape[0]}\")"
   ]
  },
  {
   "cell_type": "code",
   "execution_count": 21,
   "id": "1907b70d",
   "metadata": {},
   "outputs": [
    {
     "data": {
      "image/png": "[encoded data removed]",
      "text/plain": [
       "<Figure size 640x480 with 1 Axes>"
      ]
     },
     "metadata": {},
     "output_type": "display_data"
    }
   ],
   "source": [
    "# 2. Quali sono i generi più popolari? Mostralo con un bar plot\n",
    "df['Genre'].value_counts().plot(kind='bar')\n",
    "plt.title('Numero di videogiochi per genere')\n",
    "plt.xlabel('Genere')\n",
    "plt.ylabel('Numero di videogiochi')\n",
    "plt.show()"
   ]
  }
 ],
 "metadata": {
  "kernelspec": {
   "display_name": "base",
   "language": "python",
   "name": "python3"
  },
  "language_info": {
   "codemirror_mode": {
    "name": "ipython",
    "version": 3
   },
   "file_extension": ".py",
   "mimetype": "text/x-python",
   "name": "python",
   "nbconvert_exporter": "python",
   "pygments_lexer": "ipython3",
   "version": "3.12.7"
  }
 },
 "nbformat": 4,
 "nbformat_minor": 5
}
